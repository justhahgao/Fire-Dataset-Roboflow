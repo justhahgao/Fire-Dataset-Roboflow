{
 "cells": [
  {
   "cell_type": "code",
   "execution_count": 12,
   "id": "traditional-contrast",
   "metadata": {},
   "outputs": [],
   "source": [
    "from image_slicer import slice\n",
    "import os"
   ]
  },
  {
   "cell_type": "code",
   "execution_count": 2,
   "id": "attended-cinema",
   "metadata": {},
   "outputs": [],
   "source": [
    "#slice('DJI_0002.JPG',4)"
   ]
  },
  {
   "cell_type": "code",
   "execution_count": 13,
   "id": "quiet-utility",
   "metadata": {},
   "outputs": [
    {
     "name": "stdout",
     "output_type": "stream",
     "text": [
      "['DJI_0128_1.jpg', 'DJI_0128_10.jpg', 'DJI_0128_100.jpg', 'DJI_0128_101.jpg', 'DJI_0128_102.jpg', 'DJI_0128_103.jpg', 'DJI_0128_104.jpg', 'DJI_0128_105.jpg', 'DJI_0128_106.jpg', 'DJI_0128_107.jpg', 'DJI_0128_108.jpg', 'DJI_0128_109.jpg', 'DJI_0128_11.jpg', 'DJI_0128_110.jpg', 'DJI_0128_111.jpg', 'DJI_0128_112.jpg', 'DJI_0128_113.jpg', 'DJI_0128_114.jpg', 'DJI_0128_115.jpg', 'DJI_0128_116.jpg', 'DJI_0128_117.jpg', 'DJI_0128_118.jpg', 'DJI_0128_119.jpg', 'DJI_0128_12.jpg', 'DJI_0128_120.jpg', 'DJI_0128_121.jpg', 'DJI_0128_122.jpg', 'DJI_0128_123.jpg', 'DJI_0128_124.jpg', 'DJI_0128_125.jpg', 'DJI_0128_126.jpg', 'DJI_0128_127.jpg', 'DJI_0128_128.jpg', 'DJI_0128_129.jpg', 'DJI_0128_13.jpg', 'DJI_0128_130.jpg', 'DJI_0128_131.jpg', 'DJI_0128_132.jpg', 'DJI_0128_133.jpg', 'DJI_0128_134.jpg', 'DJI_0128_135.jpg', 'DJI_0128_136.jpg', 'DJI_0128_137.jpg', 'DJI_0128_138.jpg', 'DJI_0128_139.jpg', 'DJI_0128_14.jpg', 'DJI_0128_140.jpg', 'DJI_0128_141.jpg', 'DJI_0128_142.jpg', 'DJI_0128_143.jpg', 'DJI_0128_144.jpg', 'DJI_0128_145.jpg', 'DJI_0128_146.jpg', 'DJI_0128_147.jpg', 'DJI_0128_148.jpg', 'DJI_0128_149.jpg', 'DJI_0128_15.jpg', 'DJI_0128_150.jpg', 'DJI_0128_151.jpg', 'DJI_0128_152.jpg', 'DJI_0128_153.jpg', 'DJI_0128_154.jpg', 'DJI_0128_155.jpg', 'DJI_0128_156.jpg', 'DJI_0128_157.jpg', 'DJI_0128_158.jpg', 'DJI_0128_159.jpg', 'DJI_0128_16.jpg', 'DJI_0128_160.jpg', 'DJI_0128_161.jpg', 'DJI_0128_162.jpg', 'DJI_0128_163.jpg', 'DJI_0128_164.jpg', 'DJI_0128_165.jpg', 'DJI_0128_166.jpg', 'DJI_0128_167.jpg', 'DJI_0128_168.jpg', 'DJI_0128_169.jpg', 'DJI_0128_17.jpg', 'DJI_0128_170.jpg', 'DJI_0128_171.jpg', 'DJI_0128_172.jpg', 'DJI_0128_173.jpg', 'DJI_0128_174.jpg', 'DJI_0128_175.jpg', 'DJI_0128_176.jpg', 'DJI_0128_177.jpg', 'DJI_0128_178.jpg', 'DJI_0128_179.jpg', 'DJI_0128_18.jpg', 'DJI_0128_180.jpg', 'DJI_0128_181.jpg', 'DJI_0128_182.jpg', 'DJI_0128_183.jpg', 'DJI_0128_184.jpg', 'DJI_0128_185.jpg', 'DJI_0128_186.jpg', 'DJI_0128_187.jpg', 'DJI_0128_188.jpg', 'DJI_0128_189.jpg', 'DJI_0128_19.jpg', 'DJI_0128_190.jpg', 'DJI_0128_191.jpg', 'DJI_0128_192.jpg', 'DJI_0128_193.jpg', 'DJI_0128_2.jpg', 'DJI_0128_20.jpg', 'DJI_0128_21.jpg', 'DJI_0128_22.jpg', 'DJI_0128_23.jpg', 'DJI_0128_24.jpg', 'DJI_0128_25.jpg', 'DJI_0128_26.jpg', 'DJI_0128_27.jpg', 'DJI_0128_28.jpg', 'DJI_0128_29.jpg', 'DJI_0128_3.jpg', 'DJI_0128_30.jpg', 'DJI_0128_31.jpg', 'DJI_0128_32.jpg', 'DJI_0128_33.jpg', 'DJI_0128_34.jpg', 'DJI_0128_35.jpg', 'DJI_0128_36.jpg', 'DJI_0128_37.jpg', 'DJI_0128_38.jpg', 'DJI_0128_39.jpg', 'DJI_0128_4.jpg', 'DJI_0128_40.jpg', 'DJI_0128_41.jpg', 'DJI_0128_42.jpg', 'DJI_0128_43.jpg', 'DJI_0128_44.jpg', 'DJI_0128_45.jpg', 'DJI_0128_46.jpg', 'DJI_0128_47.jpg', 'DJI_0128_48.jpg', 'DJI_0128_49.jpg', 'DJI_0128_5.jpg', 'DJI_0128_50.jpg', 'DJI_0128_51.jpg', 'DJI_0128_52.jpg', 'DJI_0128_53.jpg', 'DJI_0128_54.jpg', 'DJI_0128_55.jpg', 'DJI_0128_56.jpg', 'DJI_0128_57.jpg', 'DJI_0128_58.jpg', 'DJI_0128_59.jpg', 'DJI_0128_6.jpg', 'DJI_0128_60.jpg', 'DJI_0128_61.jpg', 'DJI_0128_62.jpg', 'DJI_0128_63.jpg', 'DJI_0128_64.jpg', 'DJI_0128_65.jpg', 'DJI_0128_66.jpg', 'DJI_0128_67.jpg', 'DJI_0128_68.jpg', 'DJI_0128_69.jpg', 'DJI_0128_7.jpg', 'DJI_0128_70.jpg', 'DJI_0128_71.jpg', 'DJI_0128_72.jpg', 'DJI_0128_73.jpg', 'DJI_0128_74.jpg', 'DJI_0128_75.jpg', 'DJI_0128_76.jpg', 'DJI_0128_77.jpg', 'DJI_0128_78.jpg', 'DJI_0128_79.jpg', 'DJI_0128_8.jpg', 'DJI_0128_80.jpg', 'DJI_0128_81.jpg', 'DJI_0128_82.jpg', 'DJI_0128_83.jpg', 'DJI_0128_84.jpg', 'DJI_0128_85.jpg', 'DJI_0128_86.jpg', 'DJI_0128_87.jpg', 'DJI_0128_88.jpg', 'DJI_0128_89.jpg', 'DJI_0128_9.jpg', 'DJI_0128_90.jpg', 'DJI_0128_91.jpg', 'DJI_0128_92.jpg', 'DJI_0128_93.jpg', 'DJI_0128_94.jpg', 'DJI_0128_95.jpg', 'DJI_0128_96.jpg', 'DJI_0128_97.jpg', 'DJI_0128_98.jpg', 'DJI_0128_99.jpg', 'DJI_0131_1.jpg', 'DJI_0131_10.jpg', 'DJI_0131_100.jpg', 'DJI_0131_101.jpg', 'DJI_0131_102.jpg', 'DJI_0131_103.jpg', 'DJI_0131_104.jpg', 'DJI_0131_105.jpg', 'DJI_0131_106.jpg', 'DJI_0131_107.jpg', 'DJI_0131_108.jpg', 'DJI_0131_109.jpg', 'DJI_0131_11.jpg', 'DJI_0131_110.jpg', 'DJI_0131_111.jpg', 'DJI_0131_112.jpg', 'DJI_0131_113.jpg', 'DJI_0131_114.jpg', 'DJI_0131_115.jpg', 'DJI_0131_116.jpg', 'DJI_0131_117.jpg', 'DJI_0131_118.jpg', 'DJI_0131_119.jpg', 'DJI_0131_12.jpg', 'DJI_0131_120.jpg', 'DJI_0131_121.jpg', 'DJI_0131_122.jpg', 'DJI_0131_123.jpg', 'DJI_0131_124.jpg', 'DJI_0131_125.jpg', 'DJI_0131_126.jpg', 'DJI_0131_127.jpg', 'DJI_0131_128.jpg', 'DJI_0131_129.jpg', 'DJI_0131_13.jpg', 'DJI_0131_130.jpg', 'DJI_0131_131.jpg', 'DJI_0131_132.jpg', 'DJI_0131_133.jpg', 'DJI_0131_134.jpg', 'DJI_0131_135.jpg', 'DJI_0131_136.jpg', 'DJI_0131_137.jpg', 'DJI_0131_138.jpg', 'DJI_0131_139.jpg', 'DJI_0131_14.jpg', 'DJI_0131_140.jpg', 'DJI_0131_141.jpg', 'DJI_0131_142.jpg', 'DJI_0131_143.jpg', 'DJI_0131_144.jpg', 'DJI_0131_145.jpg', 'DJI_0131_146.jpg', 'DJI_0131_147.jpg', 'DJI_0131_148.jpg', 'DJI_0131_149.jpg', 'DJI_0131_15.jpg', 'DJI_0131_150.jpg', 'DJI_0131_151.jpg', 'DJI_0131_152.jpg', 'DJI_0131_153.jpg', 'DJI_0131_154.jpg', 'DJI_0131_155.jpg', 'DJI_0131_156.jpg', 'DJI_0131_157.jpg', 'DJI_0131_158.jpg', 'DJI_0131_159.jpg', 'DJI_0131_16.jpg', 'DJI_0131_160.jpg', 'DJI_0131_161.jpg', 'DJI_0131_162.jpg', 'DJI_0131_163.jpg', 'DJI_0131_164.jpg', 'DJI_0131_165.jpg', 'DJI_0131_166.jpg', 'DJI_0131_167.jpg', 'DJI_0131_168.jpg', 'DJI_0131_169.jpg', 'DJI_0131_17.jpg', 'DJI_0131_170.jpg', 'DJI_0131_171.jpg', 'DJI_0131_172.jpg', 'DJI_0131_173.jpg', 'DJI_0131_174.jpg', 'DJI_0131_175.jpg', 'DJI_0131_176.jpg', 'DJI_0131_177.jpg', 'DJI_0131_178.jpg', 'DJI_0131_179.jpg', 'DJI_0131_18.jpg', 'DJI_0131_180.jpg', 'DJI_0131_181.jpg', 'DJI_0131_182.jpg', 'DJI_0131_183.jpg', 'DJI_0131_184.jpg', 'DJI_0131_185.jpg', 'DJI_0131_186.jpg', 'DJI_0131_187.jpg', 'DJI_0131_188.jpg', 'DJI_0131_189.jpg', 'DJI_0131_19.jpg', 'DJI_0131_190.jpg', 'DJI_0131_191.jpg', 'DJI_0131_192.jpg', 'DJI_0131_193.jpg', 'DJI_0131_194.jpg', 'DJI_0131_195.jpg', 'DJI_0131_196.jpg', 'DJI_0131_197.jpg', 'DJI_0131_198.jpg', 'DJI_0131_199.jpg', 'DJI_0131_2.jpg', 'DJI_0131_20.jpg', 'DJI_0131_200.jpg', 'DJI_0131_201.jpg', 'DJI_0131_202.jpg', 'DJI_0131_203.jpg', 'DJI_0131_204.jpg', 'DJI_0131_205.jpg', 'DJI_0131_206.jpg', 'DJI_0131_207.jpg', 'DJI_0131_208.jpg', 'DJI_0131_209.jpg', 'DJI_0131_21.jpg', 'DJI_0131_210.jpg', 'DJI_0131_211.jpg', 'DJI_0131_212.jpg', 'DJI_0131_213.jpg', 'DJI_0131_214.jpg', 'DJI_0131_215.jpg', 'DJI_0131_216.jpg', 'DJI_0131_217.jpg', 'DJI_0131_218.jpg', 'DJI_0131_219.jpg', 'DJI_0131_22.jpg', 'DJI_0131_220.jpg', 'DJI_0131_221.jpg', 'DJI_0131_222.jpg', 'DJI_0131_223.jpg', 'DJI_0131_224.jpg', 'DJI_0131_225.jpg', 'DJI_0131_226.jpg', 'DJI_0131_227.jpg', 'DJI_0131_228.jpg', 'DJI_0131_229.jpg', 'DJI_0131_23.jpg', 'DJI_0131_230.jpg', 'DJI_0131_231.jpg', 'DJI_0131_232.jpg', 'DJI_0131_233.jpg', 'DJI_0131_234.jpg', 'DJI_0131_235.jpg', 'DJI_0131_236.jpg', 'DJI_0131_237.jpg', 'DJI_0131_238.jpg', 'DJI_0131_239.jpg', 'DJI_0131_24.jpg', 'DJI_0131_240.jpg', 'DJI_0131_241.jpg', 'DJI_0131_242.jpg', 'DJI_0131_243.jpg', 'DJI_0131_244.jpg', 'DJI_0131_245.jpg', 'DJI_0131_246.jpg', 'DJI_0131_247.jpg', 'DJI_0131_248.jpg', 'DJI_0131_249.jpg', 'DJI_0131_25.jpg', 'DJI_0131_250.jpg', 'DJI_0131_251.jpg', 'DJI_0131_252.jpg', 'DJI_0131_253.jpg', 'DJI_0131_254.jpg', 'DJI_0131_255.jpg', 'DJI_0131_256.jpg', 'DJI_0131_257.jpg', 'DJI_0131_258.jpg', 'DJI_0131_259.jpg', 'DJI_0131_26.jpg', 'DJI_0131_260.jpg', 'DJI_0131_261.jpg', 'DJI_0131_262.jpg', 'DJI_0131_263.jpg', 'DJI_0131_264.jpg', 'DJI_0131_265.jpg', 'DJI_0131_266.jpg', 'DJI_0131_267.jpg', 'DJI_0131_268.jpg', 'DJI_0131_269.jpg', 'DJI_0131_27.jpg', 'DJI_0131_270.jpg', 'DJI_0131_271.jpg', 'DJI_0131_272.jpg', 'DJI_0131_273.jpg', 'DJI_0131_274.jpg', 'DJI_0131_275.jpg', 'DJI_0131_276.jpg', 'DJI_0131_277.jpg', 'DJI_0131_278.jpg', 'DJI_0131_279.jpg', 'DJI_0131_28.jpg', 'DJI_0131_280.jpg', 'DJI_0131_281.jpg', 'DJI_0131_282.jpg', 'DJI_0131_283.jpg', 'DJI_0131_284.jpg', 'DJI_0131_285.jpg', 'DJI_0131_286.jpg', 'DJI_0131_287.jpg', 'DJI_0131_288.jpg', 'DJI_0131_289.jpg', 'DJI_0131_29.jpg', 'DJI_0131_290.jpg', 'DJI_0131_291.jpg', 'DJI_0131_3.jpg', 'DJI_0131_30.jpg', 'DJI_0131_31.jpg', 'DJI_0131_32.jpg', 'DJI_0131_33.jpg', 'DJI_0131_34.jpg', 'DJI_0131_35.jpg', 'DJI_0131_36.jpg', 'DJI_0131_37.jpg', 'DJI_0131_38.jpg', 'DJI_0131_39.jpg', 'DJI_0131_4.jpg', 'DJI_0131_40.jpg', 'DJI_0131_41.jpg', 'DJI_0131_42.jpg', 'DJI_0131_43.jpg', 'DJI_0131_44.jpg', 'DJI_0131_45.jpg', 'DJI_0131_46.jpg', 'DJI_0131_47.jpg', 'DJI_0131_48.jpg', 'DJI_0131_49.jpg', 'DJI_0131_5.jpg', 'DJI_0131_50.jpg', 'DJI_0131_51.jpg', 'DJI_0131_52.jpg', 'DJI_0131_53.jpg', 'DJI_0131_54.jpg', 'DJI_0131_55.jpg', 'DJI_0131_56.jpg', 'DJI_0131_57.jpg', 'DJI_0131_58.jpg', 'DJI_0131_59.jpg', 'DJI_0131_6.jpg', 'DJI_0131_60.jpg', 'DJI_0131_61.jpg', 'DJI_0131_62.jpg', 'DJI_0131_63.jpg', 'DJI_0131_64.jpg', 'DJI_0131_65.jpg', 'DJI_0131_66.jpg', 'DJI_0131_67.jpg', 'DJI_0131_68.jpg', 'DJI_0131_69.jpg', 'DJI_0131_7.jpg', 'DJI_0131_70.jpg', 'DJI_0131_71.jpg', 'DJI_0131_72.jpg', 'DJI_0131_73.jpg', 'DJI_0131_74.jpg', 'DJI_0131_75.jpg', 'DJI_0131_76.jpg', 'DJI_0131_77.jpg', 'DJI_0131_78.jpg', 'DJI_0131_79.jpg', 'DJI_0131_8.jpg', 'DJI_0131_80.jpg', 'DJI_0131_81.jpg', 'DJI_0131_82.jpg', 'DJI_0131_83.jpg', 'DJI_0131_84.jpg', 'DJI_0131_85.jpg', 'DJI_0131_86.jpg', 'DJI_0131_87.jpg', 'DJI_0131_88.jpg', 'DJI_0131_89.jpg', 'DJI_0131_9.jpg', 'DJI_0131_90.jpg', 'DJI_0131_91.jpg', 'DJI_0131_92.jpg', 'DJI_0131_93.jpg', 'DJI_0131_94.jpg', 'DJI_0131_95.jpg', 'DJI_0131_96.jpg', 'DJI_0131_97.jpg', 'DJI_0131_98.jpg', 'DJI_0131_99.jpg', 'DJI_0132_1.jpg', 'DJI_0132_10.jpg', 'DJI_0132_100.jpg', 'DJI_0132_101.jpg', 'DJI_0132_102.jpg', 'DJI_0132_103.jpg', 'DJI_0132_104.jpg', 'DJI_0132_105.jpg', 'DJI_0132_106.jpg', 'DJI_0132_107.jpg', 'DJI_0132_108.jpg', 'DJI_0132_109.jpg', 'DJI_0132_11.jpg', 'DJI_0132_110.jpg', 'DJI_0132_111.jpg', 'DJI_0132_112.jpg', 'DJI_0132_113.jpg', 'DJI_0132_114.jpg', 'DJI_0132_115.jpg', 'DJI_0132_116.jpg', 'DJI_0132_117.jpg', 'DJI_0132_118.jpg', 'DJI_0132_119.jpg', 'DJI_0132_12.jpg', 'DJI_0132_120.jpg', 'DJI_0132_121.jpg', 'DJI_0132_122.jpg', 'DJI_0132_123.jpg', 'DJI_0132_124.jpg', 'DJI_0132_125.jpg', 'DJI_0132_126.jpg', 'DJI_0132_127.jpg', 'DJI_0132_128.jpg', 'DJI_0132_129.jpg', 'DJI_0132_13.jpg', 'DJI_0132_130.jpg', 'DJI_0132_131.jpg', 'DJI_0132_132.jpg', 'DJI_0132_133.jpg', 'DJI_0132_134.jpg', 'DJI_0132_135.jpg', 'DJI_0132_136.jpg', 'DJI_0132_137.jpg', 'DJI_0132_138.jpg', 'DJI_0132_139.jpg', 'DJI_0132_14.jpg', 'DJI_0132_140.jpg', 'DJI_0132_141.jpg', 'DJI_0132_142.jpg', 'DJI_0132_143.jpg', 'DJI_0132_144.jpg', 'DJI_0132_145.jpg', 'DJI_0132_146.jpg', 'DJI_0132_147.jpg', 'DJI_0132_148.jpg', 'DJI_0132_149.jpg', 'DJI_0132_15.jpg', 'DJI_0132_150.jpg', 'DJI_0132_151.jpg', 'DJI_0132_152.jpg', 'DJI_0132_153.jpg', 'DJI_0132_154.jpg', 'DJI_0132_155.jpg', 'DJI_0132_156.jpg', 'DJI_0132_157.jpg', 'DJI_0132_158.jpg', 'DJI_0132_159.jpg', 'DJI_0132_16.jpg', 'DJI_0132_160.jpg', 'DJI_0132_161.jpg', 'DJI_0132_162.jpg', 'DJI_0132_163.jpg', 'DJI_0132_164.jpg', 'DJI_0132_165.jpg', 'DJI_0132_166.jpg', 'DJI_0132_167.jpg', 'DJI_0132_168.jpg', 'DJI_0132_169.jpg', 'DJI_0132_17.jpg', 'DJI_0132_170.jpg', 'DJI_0132_171.jpg', 'DJI_0132_172.jpg', 'DJI_0132_173.jpg', 'DJI_0132_174.jpg', 'DJI_0132_175.jpg', 'DJI_0132_176.jpg', 'DJI_0132_177.jpg', 'DJI_0132_178.jpg', 'DJI_0132_179.jpg', 'DJI_0132_18.jpg', 'DJI_0132_180.jpg', 'DJI_0132_181.jpg', 'DJI_0132_182.jpg', 'DJI_0132_183.jpg', 'DJI_0132_184.jpg', 'DJI_0132_185.jpg', 'DJI_0132_186.jpg', 'DJI_0132_187.jpg', 'DJI_0132_188.jpg', 'DJI_0132_189.jpg', 'DJI_0132_19.jpg', 'DJI_0132_190.jpg', 'DJI_0132_191.jpg', 'DJI_0132_192.jpg', 'DJI_0132_193.jpg', 'DJI_0132_194.jpg', 'DJI_0132_195.jpg', 'DJI_0132_196.jpg', 'DJI_0132_197.jpg', 'DJI_0132_198.jpg', 'DJI_0132_199.jpg', 'DJI_0132_2.jpg', 'DJI_0132_20.jpg', 'DJI_0132_200.jpg', 'DJI_0132_201.jpg', 'DJI_0132_202.jpg', 'DJI_0132_203.jpg', 'DJI_0132_204.jpg', 'DJI_0132_205.jpg', 'DJI_0132_206.jpg', 'DJI_0132_207.jpg', 'DJI_0132_208.jpg', 'DJI_0132_209.jpg', 'DJI_0132_21.jpg', 'DJI_0132_210.jpg', 'DJI_0132_211.jpg', 'DJI_0132_212.jpg', 'DJI_0132_213.jpg', 'DJI_0132_214.jpg', 'DJI_0132_215.jpg', 'DJI_0132_216.jpg', 'DJI_0132_217.jpg', 'DJI_0132_218.jpg', 'DJI_0132_219.jpg', 'DJI_0132_22.jpg', 'DJI_0132_220.jpg', 'DJI_0132_221.jpg', 'DJI_0132_222.jpg', 'DJI_0132_223.jpg', 'DJI_0132_224.jpg', 'DJI_0132_225.jpg', 'DJI_0132_226.jpg', 'DJI_0132_227.jpg', 'DJI_0132_228.jpg', 'DJI_0132_229.jpg', 'DJI_0132_23.jpg', 'DJI_0132_230.jpg', 'DJI_0132_231.jpg', 'DJI_0132_232.jpg', 'DJI_0132_233.jpg', 'DJI_0132_234.jpg', 'DJI_0132_235.jpg', 'DJI_0132_236.jpg', 'DJI_0132_237.jpg', 'DJI_0132_238.jpg', 'DJI_0132_239.jpg', 'DJI_0132_24.jpg', 'DJI_0132_240.jpg', 'DJI_0132_241.jpg', 'DJI_0132_242.jpg', 'DJI_0132_243.jpg', 'DJI_0132_244.jpg', 'DJI_0132_245.jpg', 'DJI_0132_246.jpg', 'DJI_0132_247.jpg', 'DJI_0132_248.jpg', 'DJI_0132_249.jpg', 'DJI_0132_25.jpg', 'DJI_0132_250.jpg', 'DJI_0132_251.jpg', 'DJI_0132_252.jpg', 'DJI_0132_253.jpg', 'DJI_0132_254.jpg', 'DJI_0132_255.jpg', 'DJI_0132_256.jpg', 'DJI_0132_257.jpg', 'DJI_0132_258.jpg', 'DJI_0132_259.jpg', 'DJI_0132_26.jpg', 'DJI_0132_260.jpg', 'DJI_0132_261.jpg', 'DJI_0132_262.jpg', 'DJI_0132_263.jpg', 'DJI_0132_264.jpg', 'DJI_0132_265.jpg', 'DJI_0132_266.jpg', 'DJI_0132_267.jpg', 'DJI_0132_268.jpg', 'DJI_0132_269.jpg', 'DJI_0132_27.jpg', 'DJI_0132_270.jpg', 'DJI_0132_271.jpg', 'DJI_0132_272.jpg', 'DJI_0132_273.jpg', 'DJI_0132_274.jpg', 'DJI_0132_275.jpg', 'DJI_0132_276.jpg', 'DJI_0132_277.jpg', 'DJI_0132_278.jpg', 'DJI_0132_28.jpg', 'DJI_0132_29.jpg', 'DJI_0132_3.jpg', 'DJI_0132_30.jpg', 'DJI_0132_31.jpg', 'DJI_0132_32.jpg', 'DJI_0132_33.jpg', 'DJI_0132_34.jpg', 'DJI_0132_35.jpg', 'DJI_0132_36.jpg', 'DJI_0132_37.jpg', 'DJI_0132_38.jpg', 'DJI_0132_39.jpg', 'DJI_0132_4.jpg', 'DJI_0132_40.jpg', 'DJI_0132_41.jpg', 'DJI_0132_42.jpg', 'DJI_0132_43.jpg', 'DJI_0132_44.jpg', 'DJI_0132_45.jpg', 'DJI_0132_46.jpg', 'DJI_0132_47.jpg', 'DJI_0132_48.jpg', 'DJI_0132_49.jpg', 'DJI_0132_5.jpg', 'DJI_0132_50.jpg', 'DJI_0132_51.jpg', 'DJI_0132_52.jpg', 'DJI_0132_53.jpg', 'DJI_0132_54.jpg', 'DJI_0132_55.jpg', 'DJI_0132_56.jpg', 'DJI_0132_57.jpg', 'DJI_0132_58.jpg', 'DJI_0132_59.jpg', 'DJI_0132_6.jpg', 'DJI_0132_60.jpg', 'DJI_0132_61.jpg', 'DJI_0132_62.jpg', 'DJI_0132_63.jpg', 'DJI_0132_64.jpg', 'DJI_0132_65.jpg', 'DJI_0132_66.jpg', 'DJI_0132_67.jpg', 'DJI_0132_68.jpg', 'DJI_0132_69.jpg', 'DJI_0132_7.jpg', 'DJI_0132_70.jpg', 'DJI_0132_71.jpg', 'DJI_0132_72.jpg', 'DJI_0132_73.jpg', 'DJI_0132_74.jpg', 'DJI_0132_75.jpg', 'DJI_0132_76.jpg', 'DJI_0132_77.jpg', 'DJI_0132_78.jpg', 'DJI_0132_79.jpg', 'DJI_0132_8.jpg', 'DJI_0132_80.jpg', 'DJI_0132_81.jpg', 'DJI_0132_82.jpg', 'DJI_0132_83.jpg', 'DJI_0132_84.jpg', 'DJI_0132_85.jpg', 'DJI_0132_86.jpg', 'DJI_0132_87.jpg', 'DJI_0132_88.jpg', 'DJI_0132_89.jpg', 'DJI_0132_9.jpg', 'DJI_0132_90.jpg', 'DJI_0132_91.jpg', 'DJI_0132_92.jpg', 'DJI_0132_93.jpg', 'DJI_0132_94.jpg', 'DJI_0132_95.jpg', 'DJI_0132_96.jpg', 'DJI_0132_97.jpg', 'DJI_0132_98.jpg', 'DJI_0132_99.jpg', 'Untitled.ipynb']\n"
     ]
    }
   ],
   "source": [
    "# Read File Names \n",
    "from os import listdir\n",
    "from os.path import isfile, join\n",
    "read_files = [f for f in listdir(\"Dataset\") if isfile(join(\"Dataset\", f))]\n",
    "print(read_files)"
   ]
  },
  {
   "cell_type": "code",
   "execution_count": 16,
   "id": "capital-pittsburgh",
   "metadata": {},
   "outputs": [
    {
     "ename": "UnidentifiedImageError",
     "evalue": "cannot identify image file 'Untitled.ipynb'",
     "output_type": "error",
     "traceback": [
      "\u001b[1;31m---------------------------------------------------------------------------\u001b[0m",
      "\u001b[1;31mUnidentifiedImageError\u001b[0m                    Traceback (most recent call last)",
      "\u001b[1;32m<ipython-input-16-b1ae06525db2>\u001b[0m in \u001b[0;36m<module>\u001b[1;34m\u001b[0m\n\u001b[0;32m      1\u001b[0m \u001b[0mos\u001b[0m\u001b[1;33m.\u001b[0m\u001b[0mchdir\u001b[0m\u001b[1;33m(\u001b[0m\u001b[1;34mr\"C:\\Users\\USER\\Desktop\\Psorn_MavicAir2\\DCIM\\100MEDIA\\Dataset\"\u001b[0m\u001b[1;33m)\u001b[0m\u001b[1;33m\u001b[0m\u001b[1;33m\u001b[0m\u001b[0m\n\u001b[0;32m      2\u001b[0m \u001b[1;32mfor\u001b[0m \u001b[0mf\u001b[0m \u001b[1;32min\u001b[0m \u001b[0mread_files\u001b[0m\u001b[1;33m:\u001b[0m\u001b[1;33m\u001b[0m\u001b[1;33m\u001b[0m\u001b[0m\n\u001b[1;32m----> 3\u001b[1;33m     \u001b[0mslice\u001b[0m\u001b[1;33m(\u001b[0m\u001b[0mf\u001b[0m\u001b[1;33m,\u001b[0m\u001b[1;36m4\u001b[0m\u001b[1;33m)\u001b[0m\u001b[1;33m\u001b[0m\u001b[1;33m\u001b[0m\u001b[0m\n\u001b[0m",
      "\u001b[1;32mc:\\users\\user\\appdata\\local\\programs\\python\\python38\\lib\\site-packages\\image_slicer\\main.py\u001b[0m in \u001b[0;36mslice\u001b[1;34m(filename, number_tiles, col, row, save, DecompressionBombWarning)\u001b[0m\n\u001b[0;32m    168\u001b[0m         \u001b[0mImage\u001b[0m\u001b[1;33m.\u001b[0m\u001b[0mMAX_IMAGE_PIXELS\u001b[0m \u001b[1;33m=\u001b[0m \u001b[1;32mNone\u001b[0m\u001b[1;33m\u001b[0m\u001b[1;33m\u001b[0m\u001b[0m\n\u001b[0;32m    169\u001b[0m \u001b[1;33m\u001b[0m\u001b[0m\n\u001b[1;32m--> 170\u001b[1;33m     \u001b[0mim\u001b[0m \u001b[1;33m=\u001b[0m \u001b[0mImage\u001b[0m\u001b[1;33m.\u001b[0m\u001b[0mopen\u001b[0m\u001b[1;33m(\u001b[0m\u001b[0mfilename\u001b[0m\u001b[1;33m)\u001b[0m\u001b[1;33m\u001b[0m\u001b[1;33m\u001b[0m\u001b[0m\n\u001b[0m\u001b[0;32m    171\u001b[0m     \u001b[0mim_w\u001b[0m\u001b[1;33m,\u001b[0m \u001b[0mim_h\u001b[0m \u001b[1;33m=\u001b[0m \u001b[0mim\u001b[0m\u001b[1;33m.\u001b[0m\u001b[0msize\u001b[0m\u001b[1;33m\u001b[0m\u001b[1;33m\u001b[0m\u001b[0m\n\u001b[0;32m    172\u001b[0m \u001b[1;33m\u001b[0m\u001b[0m\n",
      "\u001b[1;32mc:\\users\\user\\appdata\\local\\programs\\python\\python38\\lib\\site-packages\\PIL\\Image.py\u001b[0m in \u001b[0;36mopen\u001b[1;34m(fp, mode)\u001b[0m\n\u001b[0;32m   2928\u001b[0m     \u001b[1;32mfor\u001b[0m \u001b[0mmessage\u001b[0m \u001b[1;32min\u001b[0m \u001b[0maccept_warnings\u001b[0m\u001b[1;33m:\u001b[0m\u001b[1;33m\u001b[0m\u001b[1;33m\u001b[0m\u001b[0m\n\u001b[0;32m   2929\u001b[0m         \u001b[0mwarnings\u001b[0m\u001b[1;33m.\u001b[0m\u001b[0mwarn\u001b[0m\u001b[1;33m(\u001b[0m\u001b[0mmessage\u001b[0m\u001b[1;33m)\u001b[0m\u001b[1;33m\u001b[0m\u001b[1;33m\u001b[0m\u001b[0m\n\u001b[1;32m-> 2930\u001b[1;33m     raise UnidentifiedImageError(\n\u001b[0m\u001b[0;32m   2931\u001b[0m         \u001b[1;34m\"cannot identify image file %r\"\u001b[0m \u001b[1;33m%\u001b[0m \u001b[1;33m(\u001b[0m\u001b[0mfilename\u001b[0m \u001b[1;32mif\u001b[0m \u001b[0mfilename\u001b[0m \u001b[1;32melse\u001b[0m \u001b[0mfp\u001b[0m\u001b[1;33m)\u001b[0m\u001b[1;33m\u001b[0m\u001b[1;33m\u001b[0m\u001b[0m\n\u001b[0;32m   2932\u001b[0m     )\n",
      "\u001b[1;31mUnidentifiedImageError\u001b[0m: cannot identify image file 'Untitled.ipynb'"
     ]
    }
   ],
   "source": [
    "os.chdir(r\"C:\\Users\\USER\\Desktop\\Psorn_MavicAir2\\DCIM\\100MEDIA\\Dataset\")\n",
    "for f in read_files:\n",
    "    slice(f,4)"
   ]
  },
  {
   "cell_type": "code",
   "execution_count": null,
   "id": "distant-might",
   "metadata": {},
   "outputs": [],
   "source": []
  }
 ],
 "metadata": {
  "kernelspec": {
   "display_name": "Python 3",
   "language": "python",
   "name": "python3"
  },
  "language_info": {
   "codemirror_mode": {
    "name": "ipython",
    "version": 3
   },
   "file_extension": ".py",
   "mimetype": "text/x-python",
   "name": "python",
   "nbconvert_exporter": "python",
   "pygments_lexer": "ipython3",
   "version": "3.8.7"
  }
 },
 "nbformat": 4,
 "nbformat_minor": 5
}
